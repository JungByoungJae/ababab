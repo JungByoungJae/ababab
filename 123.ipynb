{
 "cells": [
  {
   "cell_type": "code",
   "execution_count": 1,
   "id": "adc80346-789f-4905-a231-4448dacf420c",
   "metadata": {},
   "outputs": [],
   "source": [
    "# 최빛나 화이팅\n",
    "\n"
   ]
  },
  {
   "cell_type": "code",
   "execution_count": null,
   "id": "de595ee0-8db8-406c-8649-6f2ffc06f249",
   "metadata": {},
   "outputs": [],
   "source": [
    "!echo \"# ababab\" >> README.md\n",
    "!git init"
   ]
  },
  {
   "cell_type": "code",
   "execution_count": 3,
   "id": "0894616d-9e0d-41d0-a83f-872299ee9f73",
   "metadata": {},
   "outputs": [],
   "source": [
    "!git config --global --add safe.directory F:/abc"
   ]
  },
  {
   "cell_type": "code",
   "execution_count": 4,
   "id": "afb8ca4e-0c57-4308-8db8-918e10e0d5ff",
   "metadata": {},
   "outputs": [
    {
     "name": "stdout",
     "output_type": "stream",
     "text": [
      "[master (root-commit) 1cd3eaf] first commit\n",
      " 1 file changed, 1 insertion(+)\n",
      " create mode 100644 README.md\n",
      "branch 'main' set up to track 'origin/main'.\n"
     ]
    },
    {
     "name": "stderr",
     "output_type": "stream",
     "text": [
      "To https://github.com/JungByoungJae/ababab.git\n",
      " * [new branch]      main -> main\n"
     ]
    }
   ],
   "source": [
    "!git add README.md\n",
    "!git commit -m \"first commit\"\n",
    "!git branch -M main\n",
    "!git remote add origin https://github.com/JungByoungJae/ababab.git\n",
    "!git push -u origin main"
   ]
  },
  {
   "cell_type": "code",
   "execution_count": null,
   "id": "1ce3d912-b7fb-4e33-9612-6c3adbdaf241",
   "metadata": {},
   "outputs": [],
   "source": [
    "git add 123.ipynb\n",
    "git commit -m \"secon commit\"\n",
    "git push origin main\n"
   ]
  },
  {
   "cell_type": "code",
   "execution_count": null,
   "id": "9bfa2583-57a3-4160-9145-3c97c02239b2",
   "metadata": {},
   "outputs": [],
   "source": []
  }
 ],
 "metadata": {
  "kernelspec": {
   "display_name": "Python 3 (ipykernel)",
   "language": "python",
   "name": "python3"
  },
  "language_info": {
   "codemirror_mode": {
    "name": "ipython",
    "version": 3
   },
   "file_extension": ".py",
   "mimetype": "text/x-python",
   "name": "python",
   "nbconvert_exporter": "python",
   "pygments_lexer": "ipython3",
   "version": "3.11.7"
  }
 },
 "nbformat": 4,
 "nbformat_minor": 5
}
